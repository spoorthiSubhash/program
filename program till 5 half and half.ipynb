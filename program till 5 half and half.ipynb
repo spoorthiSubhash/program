{
 "cells": [
  {
   "cell_type": "code",
   "execution_count": 4,
   "id": "c9d78844",
   "metadata": {},
   "outputs": [],
   "source": [
    "##tensorflow and keras\n",
    "import tensorflow as tf\n",
    "from tensorflow import keras\n",
    "import matplotlib.pyplot as plt\n",
    "import numpy as np"
   ]
  },
  {
   "cell_type": "code",
   "execution_count": 5,
   "id": "84629cf5",
   "metadata": {},
   "outputs": [],
   "source": [
    "(x_train,y_train),(x_test,y_test)=keras.datasets.mnist.load_data()"
   ]
  },
  {
   "cell_type": "code",
   "execution_count": 6,
   "id": "db74a113",
   "metadata": {},
   "outputs": [
    {
     "data": {
      "text/plain": [
       "(28, 28)"
      ]
     },
     "execution_count": 6,
     "metadata": {},
     "output_type": "execute_result"
    }
   ],
   "source": [
    "x_train[0].shape"
   ]
  },
  {
   "cell_type": "code",
   "execution_count": 7,
   "id": "1265c29c",
   "metadata": {},
   "outputs": [
    {
     "data": {
      "text/plain": [
       "60000"
      ]
     },
     "execution_count": 7,
     "metadata": {},
     "output_type": "execute_result"
    }
   ],
   "source": [
    "len(x_train)"
   ]
  },
  {
   "cell_type": "code",
   "execution_count": 8,
   "id": "a21dc284",
   "metadata": {},
   "outputs": [
    {
     "data": {
      "text/plain": [
       "10000"
      ]
     },
     "execution_count": 8,
     "metadata": {},
     "output_type": "execute_result"
    }
   ],
   "source": [
    "len(x_test)"
   ]
  },
  {
   "cell_type": "code",
   "execution_count": 9,
   "id": "0289fdc8",
   "metadata": {},
   "outputs": [
    {
     "data": {
      "text/plain": [
       "<matplotlib.image.AxesImage at 0x233ffaefd90>"
      ]
     },
     "execution_count": 9,
     "metadata": {},
     "output_type": "execute_result"
    },
    {
     "data": {
      "image/png": "[encoded data removed]",
      "text/plain": [
       "<Figure size 288x288 with 1 Axes>"
      ]
     },
     "metadata": {
      "needs_background": "light"
     },
     "output_type": "display_data"
    }
   ],
   "source": [
    "plt.matshow(x_train[0])"
   ]
  },
  {
   "cell_type": "code",
   "execution_count": 10,
   "id": "3813a059",
   "metadata": {},
   "outputs": [
    {
     "data": {
      "text/plain": [
       "5"
      ]
     },
     "execution_count": 10,
     "metadata": {},
     "output_type": "execute_result"
    }
   ],
   "source": [
    "y_train[0]"
   ]
  },
  {
   "cell_type": "code",
   "execution_count": 11,
   "id": "9e7c6216",
   "metadata": {},
   "outputs": [],
   "source": [
    "x_train=x_train/255\n",
    "x_test=x_test/255"
   ]
  },
  {
   "cell_type": "code",
   "execution_count": 12,
   "id": "eb0d9931",
   "metadata": {},
   "outputs": [],
   "source": [
    "x_train_flattened = x_train.reshape(len(x_train), 28*28)\n",
    "x_test_flattened = x_test.reshape(len(x_test), 28*28)"
   ]
  },
  {
   "cell_type": "code",
   "execution_count": 13,
   "id": "bfc503b5",
   "metadata": {},
   "outputs": [
    {
     "data": {
      "text/plain": [
       "(60000, 784)"
      ]
     },
     "execution_count": 13,
     "metadata": {},
     "output_type": "execute_result"
    }
   ],
   "source": [
    "x_train_flattened.shape"
   ]
  },
  {
   "cell_type": "code",
   "execution_count": 14,
   "id": "420695e2",
   "metadata": {},
   "outputs": [
    {
     "name": "stdout",
     "output_type": "stream",
     "text": [
      "Epoch 1/5\n",
      "1875/1875 [==============================] - 14s 3ms/step - loss: 0.2742 - accuracy: 0.9224\n",
      "Epoch 2/5\n",
      "1875/1875 [==============================] - 6s 3ms/step - loss: 0.1271 - accuracy: 0.9630\n",
      "Epoch 3/5\n",
      "1875/1875 [==============================] - 6s 3ms/step - loss: 0.0887 - accuracy: 0.9740\n",
      "Epoch 4/5\n",
      "1875/1875 [==============================] - 6s 3ms/step - loss: 0.0673 - accuracy: 0.9792\n",
      "Epoch 5/5\n",
      "1875/1875 [==============================] - 6s 3ms/step - loss: 0.0523 - accuracy: 0.9843\n"
     ]
    },
    {
     "data": {
      "text/plain": [
       "Reusing TensorBoard on port 6006 (pid 10224), started 13:44:12 ago. (Use '!kill 10224' to kill it.)"
      ]
     },
     "metadata": {},
     "output_type": "display_data"
    },
    {
     "data": {
      "text/html": [
       "\n",
       "      <iframe id=\"tensorboard-frame-f60a8397472b2876\" width=\"100%\" height=\"800\" frameborder=\"0\">\n",
       "      </iframe>\n",
       "      <script>\n",
       "        (function() {\n",
       "          const frame = document.getElementById(\"tensorboard-frame-f60a8397472b2876\");\n",
       "          const url = new URL(\"/\", window.location);\n",
       "          const port = 6006;\n",
       "          if (port) {\n",
       "            url.port = port;\n",
       "          }\n",
       "          frame.src = url;\n",
       "        })();\n",
       "      </script>\n",
       "    "
      ],
      "text/plain": [
       "<IPython.core.display.HTML object>"
      ]
     },
     "metadata": {},
     "output_type": "display_data"
    }
   ],
   "source": [
    "model = keras.Sequential([\n",
    "    keras.layers.Flatten(input_shape=(28, 28)),\n",
    "    keras.layers.Dense(100, activation='relu'),\n",
    "    keras.layers.Dense(10, activation='sigmoid')\n",
    "])\n",
    "\n",
    "model.compile(optimizer='adam',\n",
    "              loss='sparse_categorical_crossentropy',\n",
    "              metrics=['accuracy'])\n",
    "\n",
    "tb_callback = tf.keras.callbacks.TensorBoard(log_dir=\"logs/\", histogram_freq=1)\n",
    "\n",
    "model.fit(x_train, y_train, epochs=5, callbacks=[tb_callback])\n",
    "\n",
    "%load_ext tensorboard\n",
    "%tensorboard --logdir logs/"
   ]
  },
  {
   "cell_type": "code",
   "execution_count": null,
   "id": "a9021896",
   "metadata": {},
   "outputs": [],
   "source": []
  },
  {
   "cell_type": "code",
   "execution_count": null,
   "id": "ad37c44d",
   "metadata": {},
   "outputs": [],
   "source": []
  },
  {
   "cell_type": "code",
   "execution_count": 15,
   "id": "129154a3",
   "metadata": {},
   "outputs": [],
   "source": [
    "##univariate analysis\n",
    "#comparision plot\n",
    "import pandas as pd\n",
    "import matplotlib.pyplot as plt\n",
    "import seaborn as sns"
   ]
  },
  {
   "cell_type": "code",
   "execution_count": 16,
   "id": "61bff0ab",
   "metadata": {},
   "outputs": [
    {
     "name": "stdout",
     "output_type": "stream",
     "text": [
      "1.0     3\n",
      "4.0     2\n",
      "5.0     2\n",
      "3.0     1\n",
      "2.0     1\n",
      "3.5     1\n",
      "6.5     1\n",
      "7.4     1\n",
      "8.0     1\n",
      "13.0    1\n",
      "14.2    1\n",
      "Name: Points, dtype: int64\n"
     ]
    },
    {
     "data": {
      "image/png": "[encoded data removed]",
      "text/plain": [
       "<Figure size 405.625x360 with 1 Axes>"
      ]
     },
     "metadata": {
      "needs_background": "light"
     },
     "output_type": "display_data"
    }
   ],
   "source": [
    "df=pd.DataFrame({'class':['m','f','m','f','m','f','m','f','m','f','m','f','m','f','m'],\n",
    "                 'Points':[3,1,2,3.5,4,1,4,5,5,6.5,1,7.4,8,13,14.2],\n",
    "                 'assists':[10,9,12,10,14,8,8,14,11,11,14,8,13,11,12],\n",
    "                 'rebounds':[11,8,10,6,6,5,9,12,6,6,7,8,7,9,15]\n",
    "                })\n",
    "print(df['Points'].value_counts())\n",
    "sns.displot(df,x='Points',hue='class')\n",
    "plt.show()"
   ]
  },
  {
   "cell_type": "code",
   "execution_count": 17,
   "id": "68d92444",
   "metadata": {},
   "outputs": [],
   "source": [
    "#distribution plot\n",
    "import pandas as pd\n",
    "import matplotlib.pyplot as plt\n",
    "import seaborn as sns"
   ]
  },
  {
   "cell_type": "code",
   "execution_count": 18,
   "id": "d84f67b4",
   "metadata": {},
   "outputs": [
    {
     "name": "stdout",
     "output_type": "stream",
     "text": [
      "1.0     3\n",
      "4.0     2\n",
      "5.0     2\n",
      "3.0     1\n",
      "2.0     1\n",
      "3.5     1\n",
      "6.5     1\n",
      "7.4     1\n",
      "8.0     1\n",
      "13.0    1\n",
      "14.2    1\n",
      "Name: Points, dtype: int64\n"
     ]
    },
    {
     "data": {
      "image/png": "[encoded data removed]",
      "text/plain": [
       "<Figure size 360x360 with 1 Axes>"
      ]
     },
     "metadata": {
      "needs_background": "light"
     },
     "output_type": "display_data"
    }
   ],
   "source": [
    "df=pd.DataFrame({'class':['m','f','m','f','m','f','m','f','m','f','m','f','m','f','m'],\n",
    "                 'Points':[3,1,2,3.5,4,1,4,5,5,6.5,1,7.4,8,13,14.2],\n",
    "                 'assists':[10,9,12,10,14,8,8,14,11,11,14,8,13,11,12],\n",
    "                 'rebounds':[11,8,10,6,6,5,9,12,6,6,7,8,7,9,15]\n",
    "                })\n",
    "print(df['Points'].value_counts())\n",
    "sns.displot(df['Points'])\n",
    "plt.show()"
   ]
  },
  {
   "cell_type": "code",
   "execution_count": 19,
   "id": "5b80f4f7",
   "metadata": {},
   "outputs": [
    {
     "data": {
      "image/png": "[encoded data removed]",
      "text/plain": [
       "<Figure size 432x288 with 4 Axes>"
      ]
     },
     "metadata": {
      "needs_background": "light"
     },
     "output_type": "display_data"
    }
   ],
   "source": [
    "#composition plot\n",
    "import pandas as pd\n",
    "import matplotlib.pyplot as plt\n",
    "  \n",
    "\n",
    "data = [['E001', 'M', 34, 123, 'Normal', 350],\n",
    "        ['E002', 'F', 40, 114, 'Overweight', 450],\n",
    "        ['E003', 'F', 37, 135, 'Obesity', 169],\n",
    "        ['E004', 'M', 30, 139, 'Underweight', 189],\n",
    "        ['E005', 'F', 44, 117, 'Underweight', 183],\n",
    "        ['E006', 'M', 36, 121, 'Normal', 80],\n",
    "        ['E007', 'M', 32, 133, 'Obesity', 166],\n",
    "        ['E008', 'F', 26, 140, 'Normal', 120],\n",
    "        ['E009', 'M', 32, 133, 'Normal', 75],\n",
    "        ['E010', 'M', 36, 133, 'Underweight', 40] ]\n",
    "  \n",
    "\n",
    "df = pd.DataFrame(data, columns = ['EMPID', 'Gender', \n",
    "                                    'Age', 'Sales',\n",
    "                                    'BMI', 'Income'] )\n",
    "  \n",
    "\n",
    "df.hist()\n",
    "  \n",
    "\n",
    "plt.show()"
   ]
  },
  {
   "cell_type": "code",
   "execution_count": 20,
   "id": "e6bf87c6",
   "metadata": {},
   "outputs": [
    {
     "data": {
      "image/png": "[encoded data removed]",
      "text/plain": [
       "<Figure size 432x288 with 1 Axes>"
      ]
     },
     "metadata": {
      "needs_background": "light"
     },
     "output_type": "display_data"
    }
   ],
   "source": [
    "df.plot.bar()\n",
    "  \n",
    "# plot between 2 attributes\n",
    "plt.bar(df['Age'], df['Sales'])\n",
    "plt.xlabel(\"Age\")\n",
    "plt.ylabel(\"Sales\")\n",
    "plt.show()"
   ]
  },
  {
   "cell_type": "code",
   "execution_count": 21,
   "id": "8d68bd12",
   "metadata": {},
   "outputs": [
    {
     "data": {
      "image/png": "[encoded data removed]",
      "text/plain": [
       "<Figure size 432x288 with 1 Axes>"
      ]
     },
     "metadata": {},
     "output_type": "display_data"
    },
    {
     "data": {
      "image/png": "[encoded data removed]",
      "text/plain": [
       "<Figure size 432x288 with 1 Axes>"
      ]
     },
     "metadata": {},
     "output_type": "display_data"
    },
    {
     "data": {
      "image/png": "[encoded data removed]",
      "text/plain": [
       "<Figure size 432x288 with 1 Axes>"
      ]
     },
     "metadata": {},
     "output_type": "display_data"
    }
   ],
   "source": [
    "plt.pie(df['Age'], labels = {\"A\", \"B\", \"C\",\n",
    "                             \"D\", \"E\", \"F\",\n",
    "                             \"G\", \"H\", \"I\", \"J\"},\n",
    "                               \n",
    "autopct ='% 1.1f %%', shadow = True)\n",
    "plt.show()\n",
    "  \n",
    "plt.pie(df['Income'], labels = {\"A\", \"B\", \"C\",\n",
    "                                \"D\", \"E\", \"F\",\n",
    "                                \"G\", \"H\", \"I\", \"J\"},\n",
    "                                  \n",
    "autopct ='% 1.1f %%', shadow = True)\n",
    "plt.show()\n",
    "  \n",
    "plt.pie(df['Sales'], labels = {\"A\", \"B\", \"C\",\n",
    "                               \"D\", \"E\", \"F\",\n",
    "                               \"G\", \"H\", \"I\", \"J\"},\n",
    "autopct ='% 1.1f %%', shadow = True)\n",
    "plt.show()"
   ]
  },
  {
   "cell_type": "code",
   "execution_count": 22,
   "id": "865fdaee",
   "metadata": {},
   "outputs": [
    {
     "name": "stdout",
     "output_type": "stream",
     "text": [
      "(1, 5)\n",
      "(4, 1)\n"
     ]
    }
   ],
   "source": [
    "##linear algebra using python\n",
    "#vectors\n",
    "import numpy as np\n",
    "vector_row=np.array([[1,-5,3,2,4]])\n",
    "vector_column=np.array([[1],[2],[3],[4]])\n",
    "print(vector_row.shape)\n",
    "print(vector_column.shape)"
   ]
  },
  {
   "cell_type": "code",
   "execution_count": 23,
   "id": "4aa4a054",
   "metadata": {},
   "outputs": [
    {
     "name": "stdout",
     "output_type": "stream",
     "text": [
      "[[1 7]\n",
      " [2 3]\n",
      " [5 0]]\n",
      "[[2 6 3 1]\n",
      " [1 2 3 4]]\n",
      "[[ 9 20 24 29]\n",
      " [ 7 18 15 14]\n",
      " [10 30 15  5]]\n"
     ]
    }
   ],
   "source": [
    "#matrix\n",
    "import numpy as np\n",
    "p=np.array([[1,7],[2,3],[5,0]])\n",
    "q=np.array([[2,6,3,1],[1,2,3,4]])\n",
    "print(p)\n",
    "print(q)\n",
    "print(np.dot(p,q))"
   ]
  },
  {
   "cell_type": "code",
   "execution_count": 24,
   "id": "aa8c1f84",
   "metadata": {},
   "outputs": [
    {
     "name": "stdout",
     "output_type": "stream",
     "text": [
      "50\n",
      "1.989\n",
      "21196\n"
     ]
    }
   ],
   "source": [
    "#scalars\n",
    "number_of_units=50\n",
    "mass_of_sum=1.989\n",
    "lenght_great_wall_of_china=21196\n",
    "print(number_of_units)\n",
    "print(mass_of_sum)\n",
    "print(lenght_great_wall_of_china)\n"
   ]
  },
  {
   "cell_type": "code",
   "execution_count": 25,
   "id": "271b275b",
   "metadata": {},
   "outputs": [
    {
     "data": {
      "text/plain": [
       "(2, (3, 3))"
      ]
     },
     "execution_count": 25,
     "metadata": {},
     "output_type": "execute_result"
    }
   ],
   "source": [
    "#tensors\n",
    "x=np.array([[56,183,1],[78,178,2],[50,165,0]])\n",
    "x.ndim,x.shape"
   ]
  },
  {
   "cell_type": "code",
   "execution_count": 26,
   "id": "bf992987",
   "metadata": {},
   "outputs": [
    {
     "name": "stdout",
     "output_type": "stream",
     "text": [
      "  name  age  height\n",
      "0    k    2      12\n",
      "1    g    3      34\n",
      "2    l    4      56\n"
     ]
    },
    {
     "data": {
      "text/html": [
       "<div>\n",
       "<style scoped>\n",
       "    .dataframe tbody tr th:only-of-type {\n",
       "        vertical-align: middle;\n",
       "    }\n",
       "\n",
       "    .dataframe tbody tr th {\n",
       "        vertical-align: top;\n",
       "    }\n",
       "\n",
       "    .dataframe thead th {\n",
       "        text-align: right;\n",
       "    }\n",
       "</style>\n",
       "<table border=\"1\" class=\"dataframe\">\n",
       "  <thead>\n",
       "    <tr style=\"text-align: right;\">\n",
       "      <th></th>\n",
       "      <th>name</th>\n",
       "      <th>age</th>\n",
       "    </tr>\n",
       "  </thead>\n",
       "  <tbody>\n",
       "    <tr>\n",
       "      <th>0</th>\n",
       "      <td>k</td>\n",
       "      <td>2</td>\n",
       "    </tr>\n",
       "    <tr>\n",
       "      <th>1</th>\n",
       "      <td>g</td>\n",
       "      <td>3</td>\n",
       "    </tr>\n",
       "    <tr>\n",
       "      <th>2</th>\n",
       "      <td>l</td>\n",
       "      <td>4</td>\n",
       "    </tr>\n",
       "  </tbody>\n",
       "</table>\n",
       "</div>"
      ],
      "text/plain": [
       "  name  age\n",
       "0    k    2\n",
       "1    g    3\n",
       "2    l    4"
      ]
     },
     "execution_count": 26,
     "metadata": {},
     "output_type": "execute_result"
    }
   ],
   "source": [
    "##data cleaning\n",
    "#data reduction\n",
    "import pandas as pd\n",
    "df=pd.DataFrame({'name':['k','g','l'],'age':[2,3,4],'height':[12,34,56]})\n",
    "print(df)\n",
    "df.drop(['height'],axis=1)"
   ]
  },
  {
   "cell_type": "code",
   "execution_count": 27,
   "id": "9ddd463f",
   "metadata": {},
   "outputs": [
    {
     "name": "stdout",
     "output_type": "stream",
     "text": [
      "     Price  Rooms  Square feet\n",
      "0   632541      2         1600\n",
      "1   425618      5         2850\n",
      "2   356471     20         1780\n",
      "3  7412512    100        90000\n",
      "    Price  Rooms  Square feet\n",
      "0  632541      2         1600\n",
      "1  425618      5         2850\n",
      "     Price  Rooms  Square feet  outliers\n",
      "0   632541      2         1600         0\n",
      "1   425618      5         2850         0\n",
      "2   356471     20         1780         1\n",
      "3  7412512    100        90000         1\n",
      "     Price  Rooms  Square feet  outliers  log_of_square_feet\n",
      "0   632541      2         1600         0            7.377759\n",
      "1   425618      5         2850         0            7.955074\n",
      "2   356471     20         1780         1            7.484369\n",
      "3  7412512    100        90000         1           11.407565\n"
     ]
    }
   ],
   "source": [
    "##dealing with outliers with different approaches\n",
    "import numpy as np\n",
    "import pandas as pd\n",
    "farm=pd.DataFrame()\n",
    "farm['Price']=[632541,425618,356471,7412512]\n",
    "farm['Rooms']=[2,5,20,100]\n",
    "farm['Square feet']=[1600,2850,1780,90000]\n",
    "print(farm)\n",
    "\n",
    "\n",
    "#dropping outliers\n",
    "h=farm[farm['Rooms']<20]\n",
    "print(h)\n",
    "\n",
    "\n",
    "#marketing the outliers\n",
    "farm['outliers']=np.where(farm['Rooms']<20,0,1)\n",
    "print(farm)\n",
    "\n",
    "\n",
    "#rescaling the data\n",
    "farm['log_of_square_feet']=[np.log(x)for x in farm['Square feet']]\n",
    "print(farm)"
   ]
  },
  {
   "cell_type": "code",
   "execution_count": 28,
   "id": "afa3854f",
   "metadata": {},
   "outputs": [
    {
     "data": {
      "text/plain": [
       "<function matplotlib.pyplot.show(close=None, block=None)>"
      ]
     },
     "execution_count": 28,
     "metadata": {},
     "output_type": "execute_result"
    },
    {
     "data": {
      "image/png": "[encoded data removed]",
      "text/plain": [
       "<Figure size 432x288 with 1 Axes>"
      ]
     },
     "metadata": {
      "needs_background": "light"
     },
     "output_type": "display_data"
    }
   ],
   "source": [
    "##boxplot\n",
    "import matplotlib.pyplot as plt\n",
    "import numpy as np\n",
    "x=[[10,20,30,60],[40,56,73,21],[14,56,78,90],[29,77,65,17]]\n",
    "plt.boxplot(x)\n",
    "plt.show"
   ]
  },
  {
   "cell_type": "code",
   "execution_count": 29,
   "id": "644fb9e8",
   "metadata": {},
   "outputs": [
    {
     "data": {
      "text/plain": [
       "<function matplotlib.pyplot.show(close=None, block=None)>"
      ]
     },
     "execution_count": 29,
     "metadata": {},
     "output_type": "execute_result"
    },
    {
     "data": {
      "image/png": "[encoded data removed]",
      "text/plain": [
       "<Figure size 432x288 with 1 Axes>"
      ]
     },
     "metadata": {
      "needs_background": "light"
     },
     "output_type": "display_data"
    }
   ],
   "source": [
    "##boxplot\n",
    "import matplotlib.pyplot as plt\n",
    "import numpy as np\n",
    "x=[[10,20,30,60],[40,56,73,21],[14,56,78,90],[29,77,65,17]]\n",
    "plt.hist(x)\n",
    "plt.show"
   ]
  },
  {
   "cell_type": "code",
   "execution_count": null,
   "id": "2eb9dd4a",
   "metadata": {},
   "outputs": [],
   "source": [
    " "
   ]
  }
 ],
 "metadata": {
  "kernelspec": {
   "display_name": "Python 3 (ipykernel)",
   "language": "python",
   "name": "python3"
  },
  "language_info": {
   "codemirror_mode": {
    "name": "ipython",
    "version": 3
   },
   "file_extension": ".py",
   "mimetype": "text/x-python",
   "name": "python",
   "nbconvert_exporter": "python",
   "pygments_lexer": "ipython3",
   "version": "3.9.12"
  }
 },
 "nbformat": 4,
 "nbformat_minor": 5
}
